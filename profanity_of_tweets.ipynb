{
 "cells": [
  {
   "cell_type": "code",
   "execution_count": 88,
   "id": "eba6ca1a",
   "metadata": {},
   "outputs": [],
   "source": [
    "import re\n",
    "import pandas as pd"
   ]
  },
  {
   "cell_type": "code",
   "execution_count": 89,
   "id": "28babd43",
   "metadata": {},
   "outputs": [],
   "source": [
    "tweet_file = pd.read_csv(\"tweets.csv\", header = None)"
   ]
  },
  {
   "cell_type": "code",
   "execution_count": 90,
   "id": "14e74cc0",
   "metadata": {},
   "outputs": [
    {
     "data": {
      "text/html": [
       "<div>\n",
       "<style scoped>\n",
       "    .dataframe tbody tr th:only-of-type {\n",
       "        vertical-align: middle;\n",
       "    }\n",
       "\n",
       "    .dataframe tbody tr th {\n",
       "        vertical-align: top;\n",
       "    }\n",
       "\n",
       "    .dataframe thead th {\n",
       "        text-align: right;\n",
       "    }\n",
       "</style>\n",
       "<table border=\"1\" class=\"dataframe\">\n",
       "  <thead>\n",
       "    <tr style=\"text-align: right;\">\n",
       "      <th></th>\n",
       "      <th>0</th>\n",
       "    </tr>\n",
       "  </thead>\n",
       "  <tbody>\n",
       "    <tr>\n",
       "      <th>0</th>\n",
       "      <td>@user1 Support Racism</td>\n",
       "    </tr>\n",
       "    <tr>\n",
       "      <th>1</th>\n",
       "      <td>@user2 Make racism wrong again</td>\n",
       "    </tr>\n",
       "    <tr>\n",
       "      <th>2</th>\n",
       "      <td>@user3 Do not discriminate</td>\n",
       "    </tr>\n",
       "    <tr>\n",
       "      <th>3</th>\n",
       "      <td>@user4 No to Racism</td>\n",
       "    </tr>\n",
       "    <tr>\n",
       "      <th>4</th>\n",
       "      <td>@user5 Racism down down!</td>\n",
       "    </tr>\n",
       "    <tr>\n",
       "      <th>5</th>\n",
       "      <td>@user6 White is great</td>\n",
       "    </tr>\n",
       "  </tbody>\n",
       "</table>\n",
       "</div>"
      ],
      "text/plain": [
       "                                0\n",
       "0           @user1 Support Racism\n",
       "1  @user2 Make racism wrong again\n",
       "2      @user3 Do not discriminate\n",
       "3             @user4 No to Racism\n",
       "4        @user5 Racism down down!\n",
       "5           @user6 White is great"
      ]
     },
     "execution_count": 90,
     "metadata": {},
     "output_type": "execute_result"
    }
   ],
   "source": [
    "tweet_file"
   ]
  },
  {
   "cell_type": "code",
   "execution_count": 91,
   "id": "0ca3ce57",
   "metadata": {},
   "outputs": [
    {
     "name": "stdout",
     "output_type": "stream",
     "text": [
      "Enter name separated by space: racism discriminate\n"
     ]
    }
   ],
   "source": [
    "# List of racial slurs\n",
    "input_slurs = input(\"Enter name separated by space: \")\n",
    "# Split string into words\n",
    "list_of_slurs = input_slurs.split(\" \")"
   ]
  },
  {
   "cell_type": "code",
   "execution_count": 92,
   "id": "4dba6a3a",
   "metadata": {},
   "outputs": [
    {
     "data": {
      "text/plain": [
       "['racism', 'discriminate']"
      ]
     },
     "execution_count": 92,
     "metadata": {},
     "output_type": "execute_result"
    }
   ],
   "source": [
    "list_of_slurs"
   ]
  },
  {
   "cell_type": "code",
   "execution_count": 93,
   "id": "bc58ea42",
   "metadata": {},
   "outputs": [],
   "source": [
    "#adding header\n",
    "tweet_file = tweet_file.rename(columns={0: \"Tweets\"})"
   ]
  },
  {
   "cell_type": "code",
   "execution_count": 94,
   "id": "73b00cc1",
   "metadata": {},
   "outputs": [],
   "source": [
    "#splitting users \n",
    "tweet_file[\"User\"] = tweet_file[\"Tweets\"].apply(lambda x: [x for x in x.split(\" \") if x.startswith(\"@\")])\n",
    "tweet_file[\"User\"] = tweet_file[\"User\"].apply(lambda x: str(x)) "
   ]
  },
  {
   "cell_type": "code",
   "execution_count": 95,
   "id": "d2f5b97f",
   "metadata": {},
   "outputs": [],
   "source": [
    "tweet_file[\"Tweets\"] = tweet_file[\"Tweets\"].apply(lambda x: [x for x in x.split(\" \") ][1:])\n",
    "tweet_file[\"Tweets\"] = tweet_file[\"Tweets\"].apply(lambda x: \" \".join(x))"
   ]
  },
  {
   "cell_type": "code",
   "execution_count": 96,
   "id": "50fc2764",
   "metadata": {},
   "outputs": [],
   "source": [
    "def search_slurs(x):     \n",
    "    tmp_list = []\n",
    "    for y in list_of_slurs: \n",
    "        if re.search(y, x, re.IGNORECASE) is not None:   \n",
    "            tmp_list.append(y) \n",
    "        else: \n",
    "            pass\n",
    "        another_tmp_list = []\n",
    "        for item in tmp_list: \n",
    "            if len(item) == 0:\n",
    "                pass \n",
    "            else:\n",
    "                another_tmp_list.append(item)\n",
    "            \n",
    "            foul_words = \", \".join(another_tmp_list)\n",
    "            return foul_words"
   ]
  },
  {
   "cell_type": "code",
   "execution_count": 97,
   "id": "a149096c",
   "metadata": {},
   "outputs": [],
   "source": [
    "tweet_file[\"Slur Words\"] = tweet_file[\"Tweets\"].apply(search_slurs)\n",
    "tweet_file['Total Word Count'] = tweet_file['Tweets'].apply(lambda x: len(re.findall(r'\\w+', x)))"
   ]
  },
  {
   "cell_type": "code",
   "execution_count": 98,
   "id": "0f588aee",
   "metadata": {},
   "outputs": [
    {
     "data": {
      "text/html": [
       "<div>\n",
       "<style scoped>\n",
       "    .dataframe tbody tr th:only-of-type {\n",
       "        vertical-align: middle;\n",
       "    }\n",
       "\n",
       "    .dataframe tbody tr th {\n",
       "        vertical-align: top;\n",
       "    }\n",
       "\n",
       "    .dataframe thead th {\n",
       "        text-align: right;\n",
       "    }\n",
       "</style>\n",
       "<table border=\"1\" class=\"dataframe\">\n",
       "  <thead>\n",
       "    <tr style=\"text-align: right;\">\n",
       "      <th></th>\n",
       "      <th>Tweets</th>\n",
       "      <th>User</th>\n",
       "      <th>Slur Words</th>\n",
       "      <th>Total Word Count</th>\n",
       "    </tr>\n",
       "  </thead>\n",
       "  <tbody>\n",
       "    <tr>\n",
       "      <th>0</th>\n",
       "      <td>Support Racism</td>\n",
       "      <td>['@user1']</td>\n",
       "      <td>racism</td>\n",
       "      <td>2</td>\n",
       "    </tr>\n",
       "    <tr>\n",
       "      <th>1</th>\n",
       "      <td>Make racism wrong again</td>\n",
       "      <td>['@user2']</td>\n",
       "      <td>racism</td>\n",
       "      <td>4</td>\n",
       "    </tr>\n",
       "    <tr>\n",
       "      <th>2</th>\n",
       "      <td>Do not discriminate</td>\n",
       "      <td>['@user3']</td>\n",
       "      <td>discriminate</td>\n",
       "      <td>3</td>\n",
       "    </tr>\n",
       "    <tr>\n",
       "      <th>3</th>\n",
       "      <td>No to Racism</td>\n",
       "      <td>['@user4']</td>\n",
       "      <td>racism</td>\n",
       "      <td>3</td>\n",
       "    </tr>\n",
       "    <tr>\n",
       "      <th>4</th>\n",
       "      <td>Racism down down!</td>\n",
       "      <td>['@user5']</td>\n",
       "      <td>racism</td>\n",
       "      <td>3</td>\n",
       "    </tr>\n",
       "    <tr>\n",
       "      <th>5</th>\n",
       "      <td>White is great</td>\n",
       "      <td>['@user6']</td>\n",
       "      <td>None</td>\n",
       "      <td>3</td>\n",
       "    </tr>\n",
       "  </tbody>\n",
       "</table>\n",
       "</div>"
      ],
      "text/plain": [
       "                    Tweets        User    Slur Words  Total Word Count\n",
       "0           Support Racism  ['@user1']        racism                 2\n",
       "1  Make racism wrong again  ['@user2']        racism                 4\n",
       "2      Do not discriminate  ['@user3']  discriminate                 3\n",
       "3             No to Racism  ['@user4']        racism                 3\n",
       "4        Racism down down!  ['@user5']        racism                 3\n",
       "5           White is great  ['@user6']          None                 3"
      ]
     },
     "execution_count": 98,
     "metadata": {},
     "output_type": "execute_result"
    }
   ],
   "source": [
    "tweet_file"
   ]
  },
  {
   "cell_type": "code",
   "execution_count": 99,
   "id": "9bdf0130",
   "metadata": {},
   "outputs": [],
   "source": [
    "tweet_file['Slur Words'] = tweet_file['Slur Words'].astype(str)"
   ]
  },
  {
   "cell_type": "code",
   "execution_count": 100,
   "id": "a196ed17",
   "metadata": {
    "scrolled": true
   },
   "outputs": [],
   "source": [
    "tweet_file['Slurs Count'] = tweet_file['Slur Words'].apply(lambda x: len(re.findall(r'\\w+', x)))"
   ]
  },
  {
   "cell_type": "code",
   "execution_count": 101,
   "id": "86f97844",
   "metadata": {},
   "outputs": [],
   "source": [
    "tweet_file[\"Deg. Profanity\"] = tweet_file[\"Slurs Count\"]/tweet_file[\"Total Word Count\"]"
   ]
  },
  {
   "cell_type": "code",
   "execution_count": 102,
   "id": "f8f688bd",
   "metadata": {},
   "outputs": [
    {
     "data": {
      "text/html": [
       "<div>\n",
       "<style scoped>\n",
       "    .dataframe tbody tr th:only-of-type {\n",
       "        vertical-align: middle;\n",
       "    }\n",
       "\n",
       "    .dataframe tbody tr th {\n",
       "        vertical-align: top;\n",
       "    }\n",
       "\n",
       "    .dataframe thead th {\n",
       "        text-align: right;\n",
       "    }\n",
       "</style>\n",
       "<table border=\"1\" class=\"dataframe\">\n",
       "  <thead>\n",
       "    <tr style=\"text-align: right;\">\n",
       "      <th></th>\n",
       "      <th>Tweets</th>\n",
       "      <th>User</th>\n",
       "      <th>Slur Words</th>\n",
       "      <th>Total Word Count</th>\n",
       "      <th>Slurs Count</th>\n",
       "      <th>Deg. Profanity</th>\n",
       "    </tr>\n",
       "  </thead>\n",
       "  <tbody>\n",
       "    <tr>\n",
       "      <th>0</th>\n",
       "      <td>Support Racism</td>\n",
       "      <td>['@user1']</td>\n",
       "      <td>racism</td>\n",
       "      <td>2</td>\n",
       "      <td>1</td>\n",
       "      <td>0.500000</td>\n",
       "    </tr>\n",
       "    <tr>\n",
       "      <th>1</th>\n",
       "      <td>Make racism wrong again</td>\n",
       "      <td>['@user2']</td>\n",
       "      <td>racism</td>\n",
       "      <td>4</td>\n",
       "      <td>1</td>\n",
       "      <td>0.250000</td>\n",
       "    </tr>\n",
       "    <tr>\n",
       "      <th>2</th>\n",
       "      <td>Do not discriminate</td>\n",
       "      <td>['@user3']</td>\n",
       "      <td>discriminate</td>\n",
       "      <td>3</td>\n",
       "      <td>1</td>\n",
       "      <td>0.333333</td>\n",
       "    </tr>\n",
       "    <tr>\n",
       "      <th>3</th>\n",
       "      <td>No to Racism</td>\n",
       "      <td>['@user4']</td>\n",
       "      <td>racism</td>\n",
       "      <td>3</td>\n",
       "      <td>1</td>\n",
       "      <td>0.333333</td>\n",
       "    </tr>\n",
       "    <tr>\n",
       "      <th>4</th>\n",
       "      <td>Racism down down!</td>\n",
       "      <td>['@user5']</td>\n",
       "      <td>racism</td>\n",
       "      <td>3</td>\n",
       "      <td>1</td>\n",
       "      <td>0.333333</td>\n",
       "    </tr>\n",
       "    <tr>\n",
       "      <th>5</th>\n",
       "      <td>White is great</td>\n",
       "      <td>['@user6']</td>\n",
       "      <td>None</td>\n",
       "      <td>3</td>\n",
       "      <td>1</td>\n",
       "      <td>0.333333</td>\n",
       "    </tr>\n",
       "  </tbody>\n",
       "</table>\n",
       "</div>"
      ],
      "text/plain": [
       "                    Tweets        User    Slur Words  Total Word Count  \\\n",
       "0           Support Racism  ['@user1']        racism                 2   \n",
       "1  Make racism wrong again  ['@user2']        racism                 4   \n",
       "2      Do not discriminate  ['@user3']  discriminate                 3   \n",
       "3             No to Racism  ['@user4']        racism                 3   \n",
       "4        Racism down down!  ['@user5']        racism                 3   \n",
       "5           White is great  ['@user6']          None                 3   \n",
       "\n",
       "   Slurs Count  Deg. Profanity  \n",
       "0            1        0.500000  \n",
       "1            1        0.250000  \n",
       "2            1        0.333333  \n",
       "3            1        0.333333  \n",
       "4            1        0.333333  \n",
       "5            1        0.333333  "
      ]
     },
     "execution_count": 102,
     "metadata": {},
     "output_type": "execute_result"
    }
   ],
   "source": [
    "tweet_file"
   ]
  },
  {
   "cell_type": "code",
   "execution_count": 103,
   "id": "e8ce8d78",
   "metadata": {},
   "outputs": [],
   "source": [
    "tweet_file.to_csv(r\"degree_of_profanity.csv\", index=False)"
   ]
  },
  {
   "cell_type": "code",
   "execution_count": null,
   "id": "52e553ec",
   "metadata": {},
   "outputs": [],
   "source": []
  }
 ],
 "metadata": {
  "kernelspec": {
   "display_name": "Python 3 (ipykernel)",
   "language": "python",
   "name": "python3"
  },
  "language_info": {
   "codemirror_mode": {
    "name": "ipython",
    "version": 3
   },
   "file_extension": ".py",
   "mimetype": "text/x-python",
   "name": "python",
   "nbconvert_exporter": "python",
   "pygments_lexer": "ipython3",
   "version": "3.10.2"
  }
 },
 "nbformat": 4,
 "nbformat_minor": 5
}
